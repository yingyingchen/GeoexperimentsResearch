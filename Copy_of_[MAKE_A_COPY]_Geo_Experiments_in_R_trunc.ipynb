{
  "nbformat": 4,
  "nbformat_minor": 0,
  "metadata": {
    "colab": {
      "name": "Copy of [MAKE A COPY] Geo Experiments in R_trunc.ipynb",
      "provenance": [],
      "include_colab_link": true
    },
    "kernelspec": {
      "name": "python3",
      "display_name": "Python 3"
    },
    "language_info": {
      "name": "python"
    }
  },
  "cells": [
    {
      "cell_type": "markdown",
      "metadata": {
        "id": "view-in-github",
        "colab_type": "text"
      },
      "source": [
        "<a href=\"https://colab.research.google.com/github/yingyingchen/GeoexperimentsResearch/blob/master/Copy_of_%5BMAKE_A_COPY%5D_Geo_Experiments_in_R_trunc.ipynb\" target=\"_parent\"><img src=\"https://colab.research.google.com/assets/colab-badge.svg\" alt=\"Open In Colab\"/></a>"
      ]
    },
    {
      "cell_type": "markdown",
      "source": [
        "## Pre-requisites\n",
        "\n",
        "1.   Ceate Fork of google/GeoexperimentsResearch in your Github account\n",
        "2.   Go to copy of repository\n",
        "3.   Go into to \"data\" folder\n",
        "4.   Delete \"salesandcost.rda\" and \"geoassignment.rda\" files\n",
        "5.   Upload pre-period sales and cost data named \"salesandcost.rda\" as an .rda file (need R)"
      ],
      "metadata": {
        "id": "5fnxsX6SYWDW"
      }
    },
    {
      "cell_type": "markdown",
      "source": [
        "## Load Packages"
      ],
      "metadata": {
        "id": "Jy_gU18Ov8ze"
      }
    },
    {
      "cell_type": "code",
      "source": [
        "%load_ext rpy2.ipython"
      ],
      "metadata": {
        "id": "CpDRKVn33qiH"
      },
      "execution_count": 1,
      "outputs": []
    },
    {
      "cell_type": "code",
      "source": [
        "%%R\n",
        "\n",
        "install.packages(\"devtools\")\n",
        "install.packages(\"usethis\")\n",
        "library(usethis)\n",
        "library(devtools)\n",
        "library(readr)\n",
        "install_github(\"gloyoo1/GeoexperimentsResearch\") #replace with your own Github\n",
        "library(GeoexperimentsResearch)"
      ],
      "metadata": {
        "id": "7GvpojBZR-GL",
        "colab": {
          "base_uri": "https://localhost:8080/"
        },
        "outputId": "0cecdd99-d9fd-45f7-9262-fff449f7f2f2"
      },
      "execution_count": 2,
      "outputs": [
        {
          "output_type": "stream",
          "name": "stderr",
          "text": [
            "R[write to console]: Installing package into ‘/usr/local/lib/R/site-library’\n",
            "(as ‘lib’ is unspecified)\n",
            "\n",
            "R[write to console]: trying URL 'https://cran.rstudio.com/src/contrib/devtools_2.4.3.tar.gz'\n",
            "\n",
            "R[write to console]: Content type 'application/x-gzip'\n",
            "R[write to console]:  length 372413 bytes (363 KB)\n",
            "\n",
            "R[write to console]: =\n",
            "R[write to console]: =\n",
            "R[write to console]: =\n",
            "R[write to console]: =\n",
            "R[write to console]: =\n",
            "R[write to console]: =\n",
            "R[write to console]: =\n",
            "R[write to console]: =\n",
            "R[write to console]: =\n",
            "R[write to console]: =\n",
            "R[write to console]: =\n",
            "R[write to console]: =\n",
            "R[write to console]: =\n",
            "R[write to console]: =\n",
            "R[write to console]: =\n",
            "R[write to console]: =\n",
            "R[write to console]: =\n",
            "R[write to console]: =\n",
            "R[write to console]: =\n",
            "R[write to console]: =\n",
            "R[write to console]: =\n",
            "R[write to console]: =\n",
            "R[write to console]: =\n",
            "R[write to console]: =\n",
            "R[write to console]: =\n",
            "R[write to console]: =\n",
            "R[write to console]: =\n",
            "R[write to console]: =\n",
            "R[write to console]: =\n",
            "R[write to console]: =\n",
            "R[write to console]: =\n",
            "R[write to console]: =\n",
            "R[write to console]: =\n",
            "R[write to console]: =\n",
            "R[write to console]: =\n",
            "R[write to console]: =\n",
            "R[write to console]: =\n",
            "R[write to console]: =\n",
            "R[write to console]: =\n",
            "R[write to console]: =\n",
            "R[write to console]: =\n",
            "R[write to console]: =\n",
            "R[write to console]: =\n",
            "R[write to console]: =\n",
            "R[write to console]: =\n",
            "R[write to console]: =\n",
            "R[write to console]: =\n",
            "R[write to console]: =\n",
            "R[write to console]: =\n",
            "R[write to console]: =\n",
            "R[write to console]: \n",
            "\n",
            "R[write to console]: downloaded 363 KB\n",
            "\n",
            "\n",
            "R[write to console]: \n",
            "\n",
            "R[write to console]: \n",
            "R[write to console]: The downloaded source packages are in\n",
            "\t‘/tmp/RtmpOX9rsV/downloaded_packages’\n",
            "R[write to console]: \n",
            "R[write to console]: \n",
            "\n",
            "R[write to console]: Installing package into ‘/usr/local/lib/R/site-library’\n",
            "(as ‘lib’ is unspecified)\n",
            "\n",
            "R[write to console]: trying URL 'https://cran.rstudio.com/src/contrib/usethis_2.1.6.tar.gz'\n",
            "\n",
            "R[write to console]: Content type 'application/x-gzip'\n",
            "R[write to console]:  length 342349 bytes (334 KB)\n",
            "\n",
            "R[write to console]: =\n",
            "R[write to console]: =\n",
            "R[write to console]: =\n",
            "R[write to console]: =\n",
            "R[write to console]: =\n",
            "R[write to console]: =\n",
            "R[write to console]: =\n",
            "R[write to console]: =\n",
            "R[write to console]: =\n",
            "R[write to console]: =\n",
            "R[write to console]: =\n",
            "R[write to console]: =\n",
            "R[write to console]: =\n",
            "R[write to console]: =\n",
            "R[write to console]: =\n",
            "R[write to console]: =\n",
            "R[write to console]: =\n",
            "R[write to console]: =\n",
            "R[write to console]: =\n",
            "R[write to console]: =\n",
            "R[write to console]: =\n",
            "R[write to console]: =\n",
            "R[write to console]: =\n",
            "R[write to console]: =\n",
            "R[write to console]: =\n",
            "R[write to console]: =\n",
            "R[write to console]: =\n",
            "R[write to console]: =\n",
            "R[write to console]: =\n",
            "R[write to console]: =\n",
            "R[write to console]: =\n",
            "R[write to console]: =\n",
            "R[write to console]: =\n",
            "R[write to console]: =\n",
            "R[write to console]: =\n",
            "R[write to console]: =\n",
            "R[write to console]: =\n",
            "R[write to console]: =\n",
            "R[write to console]: =\n",
            "R[write to console]: =\n",
            "R[write to console]: =\n",
            "R[write to console]: =\n",
            "R[write to console]: =\n",
            "R[write to console]: =\n",
            "R[write to console]: =\n",
            "R[write to console]: =\n",
            "R[write to console]: =\n",
            "R[write to console]: =\n",
            "R[write to console]: =\n",
            "R[write to console]: =\n",
            "R[write to console]: \n",
            "\n",
            "R[write to console]: downloaded 334 KB\n",
            "\n",
            "\n",
            "R[write to console]: \n",
            "\n",
            "R[write to console]: \n",
            "R[write to console]: The downloaded source packages are in\n",
            "\t‘/tmp/RtmpOX9rsV/downloaded_packages’\n",
            "R[write to console]: \n",
            "R[write to console]: \n",
            "\n",
            "R[write to console]: Downloading GitHub repo gloyoo1/GeoexperimentsResearch@HEAD\n",
            "\n",
            "R[write to console]: Installing 3 packages: Rcpp, plyr, reshape2\n",
            "\n",
            "R[write to console]: Installing packages into ‘/usr/local/lib/R/site-library’\n",
            "(as ‘lib’ is unspecified)\n",
            "\n",
            "R[write to console]: trying URL 'https://cran.rstudio.com/src/contrib/Rcpp_1.0.8.3.tar.gz'\n",
            "\n",
            "R[write to console]: Content type 'application/x-gzip'\n",
            "R[write to console]:  length 3086192 bytes (2.9 MB)\n",
            "\n",
            "R[write to console]: =\n",
            "R[write to console]: =\n",
            "R[write to console]: =\n",
            "R[write to console]: =\n",
            "R[write to console]: =\n",
            "R[write to console]: =\n",
            "R[write to console]: =\n",
            "R[write to console]: =\n",
            "R[write to console]: =\n",
            "R[write to console]: =\n",
            "R[write to console]: =\n",
            "R[write to console]: =\n",
            "R[write to console]: =\n",
            "R[write to console]: =\n",
            "R[write to console]: =\n",
            "R[write to console]: =\n",
            "R[write to console]: =\n",
            "R[write to console]: =\n",
            "R[write to console]: =\n",
            "R[write to console]: =\n",
            "R[write to console]: =\n",
            "R[write to console]: =\n",
            "R[write to console]: =\n",
            "R[write to console]: =\n",
            "R[write to console]: =\n",
            "R[write to console]: =\n",
            "R[write to console]: =\n",
            "R[write to console]: =\n",
            "R[write to console]: =\n",
            "R[write to console]: =\n",
            "R[write to console]: =\n",
            "R[write to console]: =\n",
            "R[write to console]: =\n",
            "R[write to console]: =\n",
            "R[write to console]: =\n",
            "R[write to console]: =\n",
            "R[write to console]: =\n",
            "R[write to console]: =\n",
            "R[write to console]: =\n",
            "R[write to console]: =\n",
            "R[write to console]: =\n",
            "R[write to console]: =\n",
            "R[write to console]: =\n",
            "R[write to console]: =\n",
            "R[write to console]: =\n",
            "R[write to console]: =\n",
            "R[write to console]: =\n",
            "R[write to console]: =\n",
            "R[write to console]: =\n",
            "R[write to console]: =\n",
            "R[write to console]: \n",
            "\n",
            "R[write to console]: downloaded 2.9 MB\n",
            "\n",
            "\n",
            "R[write to console]: trying URL 'https://cran.rstudio.com/src/contrib/plyr_1.8.7.tar.gz'\n",
            "\n",
            "R[write to console]: Content type 'application/x-gzip'\n",
            "R[write to console]:  length 401481 bytes (392 KB)\n",
            "\n",
            "R[write to console]: =\n",
            "R[write to console]: =\n",
            "R[write to console]: =\n",
            "R[write to console]: =\n",
            "R[write to console]: =\n",
            "R[write to console]: =\n",
            "R[write to console]: =\n",
            "R[write to console]: =\n",
            "R[write to console]: =\n",
            "R[write to console]: =\n",
            "R[write to console]: =\n",
            "R[write to console]: =\n",
            "R[write to console]: =\n",
            "R[write to console]: =\n",
            "R[write to console]: =\n",
            "R[write to console]: =\n",
            "R[write to console]: =\n",
            "R[write to console]: =\n",
            "R[write to console]: =\n",
            "R[write to console]: =\n",
            "R[write to console]: =\n",
            "R[write to console]: =\n",
            "R[write to console]: =\n",
            "R[write to console]: =\n",
            "R[write to console]: =\n",
            "R[write to console]: =\n",
            "R[write to console]: =\n",
            "R[write to console]: =\n",
            "R[write to console]: =\n",
            "R[write to console]: =\n",
            "R[write to console]: =\n",
            "R[write to console]: =\n",
            "R[write to console]: =\n",
            "R[write to console]: =\n",
            "R[write to console]: =\n",
            "R[write to console]: =\n",
            "R[write to console]: =\n",
            "R[write to console]: =\n",
            "R[write to console]: =\n",
            "R[write to console]: =\n",
            "R[write to console]: =\n",
            "R[write to console]: =\n",
            "R[write to console]: =\n",
            "R[write to console]: =\n",
            "R[write to console]: =\n",
            "R[write to console]: =\n",
            "R[write to console]: =\n",
            "R[write to console]: =\n",
            "R[write to console]: =\n",
            "R[write to console]: =\n",
            "R[write to console]: \n",
            "\n",
            "R[write to console]: downloaded 392 KB\n",
            "\n",
            "\n",
            "R[write to console]: trying URL 'https://cran.rstudio.com/src/contrib/reshape2_1.4.4.tar.gz'\n",
            "\n",
            "R[write to console]: Content type 'application/x-gzip'\n",
            "R[write to console]:  length 37307 bytes (36 KB)\n",
            "\n",
            "R[write to console]: =\n",
            "R[write to console]: =\n",
            "R[write to console]: =\n",
            "R[write to console]: =\n",
            "R[write to console]: =\n",
            "R[write to console]: =\n",
            "R[write to console]: =\n",
            "R[write to console]: =\n",
            "R[write to console]: =\n",
            "R[write to console]: =\n",
            "R[write to console]: =\n",
            "R[write to console]: =\n",
            "R[write to console]: =\n",
            "R[write to console]: =\n",
            "R[write to console]: =\n",
            "R[write to console]: =\n",
            "R[write to console]: =\n",
            "R[write to console]: =\n",
            "R[write to console]: =\n",
            "R[write to console]: =\n",
            "R[write to console]: =\n",
            "R[write to console]: =\n",
            "R[write to console]: =\n",
            "R[write to console]: =\n",
            "R[write to console]: =\n",
            "R[write to console]: =\n",
            "R[write to console]: =\n",
            "R[write to console]: =\n",
            "R[write to console]: =\n",
            "R[write to console]: =\n",
            "R[write to console]: =\n",
            "R[write to console]: =\n",
            "R[write to console]: =\n",
            "R[write to console]: =\n",
            "R[write to console]: =\n",
            "R[write to console]: =\n",
            "R[write to console]: =\n",
            "R[write to console]: =\n",
            "R[write to console]: =\n",
            "R[write to console]: =\n",
            "R[write to console]: =\n",
            "R[write to console]: =\n",
            "R[write to console]: =\n",
            "R[write to console]: =\n",
            "R[write to console]: =\n",
            "R[write to console]: =\n",
            "R[write to console]: =\n",
            "R[write to console]: =\n",
            "R[write to console]: =\n",
            "R[write to console]: =\n",
            "R[write to console]: \n",
            "\n",
            "R[write to console]: downloaded 36 KB\n",
            "\n",
            "\n",
            "R[write to console]: \n",
            "\n",
            "R[write to console]: \n",
            "R[write to console]: The downloaded source packages are in\n",
            "\t‘/tmp/RtmpOX9rsV/downloaded_packages’\n",
            "R[write to console]: \n",
            "R[write to console]: \n",
            "\n"
          ]
        },
        {
          "output_type": "stream",
          "name": "stdout",
          "text": [
            "* checking for file ‘/tmp/RtmpOX9rsV/remotes3c959a7f0/gloyoo1-GeoexperimentsResearch-bb02680/DESCRIPTION’ ... OK\n",
            "* preparing ‘GeoexperimentsResearch’:\n",
            "* checking DESCRIPTION meta-information ... OK\n",
            "* checking for LF line-endings in source and make files and shell scripts\n",
            "* checking for empty or unneeded directories\n",
            "* looking to see if a ‘data/datalist’ file should be added\n",
            "* building ‘GeoexperimentsResearch_1.0.3.tar.gz’\n",
            "\n"
          ]
        },
        {
          "output_type": "stream",
          "name": "stderr",
          "text": [
            "R[write to console]: Installing package into ‘/usr/local/lib/R/site-library’\n",
            "(as ‘lib’ is unspecified)\n",
            "\n",
            "R[write to console]: This software is not an official Google product. For research purposes only. Copyright 2017 Google, Inc.\n",
            "\n"
          ]
        }
      ]
    },
    {
      "cell_type": "markdown",
      "source": [
        "## Preview Pre-Period Sales and Cost Data"
      ],
      "metadata": {
        "id": "3mJVewFsYRsS"
      }
    },
    {
      "cell_type": "code",
      "source": [
        "%%R \n",
        "\n",
        "data(salesandcost)\n",
        "obj.gts <- GeoTimeseries(salesandcost, metrics=c(\"sales\", \"cost\"))\n",
        "head(obj.gts)"
      ],
      "metadata": {
        "id": "AXD2xT_6SgQp",
        "colab": {
          "base_uri": "https://localhost:8080/"
        },
        "outputId": "6078954f-be8b-4d92-de60-2e3c7f8aa94c"
      },
      "execution_count": 3,
      "outputs": [
        {
          "output_type": "stream",
          "name": "stdout",
          "text": [
            "        date geo   sales cost .weekday .weeknum .weekindex\n",
            "1 2015-01-05   1 7227.32    0        1        1     201501\n",
            "2 2015-01-05  10 1827.21    0        1        1     201501\n",
            "3 2015-01-05 100   23.98    0        1        1     201501\n",
            "4 2015-01-05  11 1501.10    0        1        1     201501\n",
            "5 2015-01-05  12 1371.61    0        1        1     201501\n",
            "6 2015-01-05  13 1366.81    0        1        1     201501\n"
          ]
        }
      ]
    },
    {
      "cell_type": "markdown",
      "source": [
        "## Geo Assignments"
      ],
      "metadata": {
        "id": "hGy3HCtA6Vh3"
      }
    },
    {
      "cell_type": "markdown",
      "source": [
        "### Stratified randomization:"
      ],
      "metadata": {
        "id": "1E4pJxNHypwV"
      }
    },
    {
      "cell_type": "code",
      "source": [
        "%%R\n",
        "\n",
        "obj.geo.strata <- ExtractGeoStrata(obj.gts, volume=\"sales\", n.groups=2)\n",
        "head(obj.geo.strata)"
      ],
      "metadata": {
        "id": "LT0YKNS4Xq58",
        "colab": {
          "base_uri": "https://localhost:8080/"
        },
        "outputId": "da0dd4d9-f0d0-43a2-a59e-001dc07c7f01"
      },
      "execution_count": 4,
      "outputs": [
        {
          "output_type": "stream",
          "name": "stdout",
          "text": [
            "  geo stratum geo.group proportion   volume    sales     cost\n",
            "1   1       1        NA 0.11180683 44690.98 44690.98 774.9707\n",
            "2   2       1        NA 0.09195421 36755.57 36755.57   0.0000\n",
            "3   3       2        NA 0.07783086 31110.24 31110.24   0.0000\n",
            "4   4       2        NA 0.06877094 27488.85 27488.85 485.7571\n",
            "5   5       3        NA 0.04748058 18978.75 18978.75   0.0000\n",
            "6   6       3        NA 0.03869424 15466.71 15466.71 272.3836\n"
          ]
        }
      ]
    },
    {
      "cell_type": "markdown",
      "source": [
        "### Randomized geo assignment:"
      ],
      "metadata": {
        "id": "bKLXmb2q6boy"
      }
    },
    {
      "cell_type": "code",
      "source": [
        "%%R\n",
        "\n",
        "obj.geo.assignment <- Randomize(obj.geo.strata)\n",
        "head(obj.geo.assignment)"
      ],
      "metadata": {
        "id": "nvL6vWgPXu7R",
        "colab": {
          "base_uri": "https://localhost:8080/"
        },
        "outputId": "b72429cb-cda5-4e22-ab1f-f1c96ae56b24"
      },
      "execution_count": 5,
      "outputs": [
        {
          "output_type": "stream",
          "name": "stdout",
          "text": [
            "  geo stratum geo.group proportion   volume    sales     cost\n",
            "1   1       1         2 0.11180683 44690.98 44690.98 774.9707\n",
            "2   2       1         1 0.09195421 36755.57 36755.57   0.0000\n",
            "3   3       2         1 0.07783086 31110.24 31110.24   0.0000\n",
            "4   4       2         2 0.06877094 27488.85 27488.85 485.7571\n",
            "5   5       3         2 0.04748058 18978.75 18978.75   0.0000\n",
            "6   6       3         1 0.03869424 15466.71 15466.71 272.3836\n"
          ]
        }
      ]
    },
    {
      "cell_type": "markdown",
      "source": [
        "Export geo assignments .csv file to Colab root folder:"
      ],
      "metadata": {
        "id": "CYBL0dHDOyE3"
      }
    },
    {
      "cell_type": "code",
      "source": [
        "%%R\n",
        "\n",
        "write.csv(obj.geo.strata, file='geoassignment.csv')"
      ],
      "metadata": {
        "id": "NSOXQBM7Ocj0"
      },
      "execution_count": 6,
      "outputs": []
    },
    {
      "cell_type": "markdown",
      "source": [
        "## Precision"
      ],
      "metadata": {
        "id": "0CXRty786gfM"
      }
    },
    {
      "cell_type": "code",
      "source": [
        "%%R\n",
        "\n",
        "obj.pre <-  DoROASPreanalysis(obj.gts, response=\"sales\",\n",
        "                              geos=obj.geo.assignment,\n",
        "                              prop.to=\"sales\",\n",
        "                              period.lengths=c(42, 21, 7))\n",
        "\n",
        "results <- summary(obj.pre,\n",
        "              level=0.90,\n",
        "              type=\"one-sided\",\n",
        "              precision=1.0)\n",
        "print(results)"
      ],
      "metadata": {
        "id": "NKwTX-x-Xzny"
      },
      "execution_count": null,
      "outputs": []
    },
    {
      "cell_type": "markdown",
      "source": [
        "The function can be also used to predict the precision given a (total) spend\n",
        "change over the test period:"
      ],
      "metadata": {
        "id": "KYWSwSCp6p_e"
      }
    },
    {
      "cell_type": "code",
      "source": [
        "%%R\n",
        "\n",
        "results2 <- summary(obj.pre,\n",
        "                level=0.90,\n",
        "                type=\"one-sided\",\n",
        "                cost=10000)\n",
        "print(results2)"
      ],
      "metadata": {
        "id": "zteKrBt2X_OP"
      },
      "execution_count": null,
      "outputs": []
    },
    {
      "cell_type": "markdown",
      "source": [
        "![stop.jpg](data:image/jpeg;base64,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)\n",
        "\n",
        "# **MUST UPLOAD GEO ASSIGNMENTS AND UPDATED SALES AND COST DATA TO GITHUB BEFORE PROCEEDING**\n",
        "\n",
        "1.   Go into to \"data\" folder in Github account\n",
        "2.   Delete \"salesandcost.rda\" and \"geoassignment.rda\" files\n",
        "3.   Upload pre-test and test periods sales and cost data named \"salesandcost.rda\" and geo assignments as \"geoassignment.rda\" as .rda files (need R)"
      ],
      "metadata": {
        "id": "ZJKiG5JD5J-Z"
      }
    },
    {
      "cell_type": "markdown",
      "source": [
        "## Preview Pre-Test and Test Periods Sales and Cost Data"
      ],
      "metadata": {
        "id": "TwkEabj5G3nB"
      }
    },
    {
      "cell_type": "code",
      "source": [
        "%%R \n",
        "\n",
        "data(salesandcost)\n",
        "obj.gts <- GeoTimeseries(salesandcost, metrics=c(\"sales\", \"cost\"))\n",
        "head(obj.gts)"
      ],
      "metadata": {
        "id": "b5SKl7JCG41J",
        "colab": {
          "base_uri": "https://localhost:8080/"
        },
        "outputId": "1c5388ab-617b-41a9-cb39-9508ac53edfc"
      },
      "execution_count": null,
      "outputs": [
        {
          "output_type": "stream",
          "name": "stdout",
          "text": [
            "        date geo   sales cost .weekday .weeknum .weekindex\n",
            "1 2015-01-05   1 7227.32    0        1        1     201501\n",
            "2 2015-01-05  10 1827.21    0        1        1     201501\n",
            "3 2015-01-05 100   23.98    0        1        1     201501\n",
            "4 2015-01-05  11 1501.10    0        1        1     201501\n",
            "5 2015-01-05  12 1371.61    0        1        1     201501\n",
            "6 2015-01-05  13 1366.81    0        1        1     201501\n"
          ]
        }
      ]
    },
    {
      "cell_type": "markdown",
      "source": [
        "## Input Experiment Dates"
      ],
      "metadata": {
        "id": "9bNzM8Mr3rLW"
      }
    },
    {
      "cell_type": "code",
      "source": [
        "%%R\n",
        "\n",
        "obj.per <- ExperimentPeriods(c(\"2015-01-05\", \"2015-02-16\", \"2015-03-15\")) #for cool down period, add end date\n",
        "obj.per"
      ],
      "metadata": {
        "id": "N025IyQ6Wtcn",
        "colab": {
          "base_uri": "https://localhost:8080/"
        },
        "outputId": "7478ff8c-c58a-44b8-90f6-c34a602d2253"
      },
      "execution_count": null,
      "outputs": [
        {
          "output_type": "stream",
          "name": "stdout",
          "text": [
            "  Period    Name      Start        End Length\n",
            "1      0 Pretest 2015-01-05 2015-02-15     42\n",
            "2      1    Test 2015-02-16 2015-03-15     28\n"
          ]
        }
      ]
    },
    {
      "cell_type": "markdown",
      "source": [
        "## Preview Geo Assignments"
      ],
      "metadata": {
        "id": "mTBa6VgyYcqX"
      }
    },
    {
      "cell_type": "code",
      "source": [
        "%%R\n",
        "\n",
        "data(geoassignment)\n",
        "obj.ga <- GeoAssignment(geoassignment)\n",
        "head(obj.ga)"
      ],
      "metadata": {
        "colab": {
          "base_uri": "https://localhost:8080/"
        },
        "id": "Au55_MG7W8cv",
        "outputId": "0bea8bd5-085d-4980-f664-55c55cb35843"
      },
      "execution_count": null,
      "outputs": [
        {
          "output_type": "stream",
          "name": "stdout",
          "text": [
            "   geo geo.group\n",
            "1    1         2\n",
            "13   2         1\n",
            "24   3         1\n",
            "35   4         2\n",
            "46   5         1\n",
            "57   6         2\n"
          ]
        }
      ]
    },
    {
      "cell_type": "code",
      "source": [
        ""
      ],
      "metadata": {
        "id": "HTqqHssuvTPu"
      },
      "execution_count": null,
      "outputs": []
    },
    {
      "cell_type": "markdown",
      "source": [
        "## Combining all information about the experiment into one object"
      ],
      "metadata": {
        "id": "l4wYHLNb5xZF"
      }
    },
    {
      "cell_type": "code",
      "source": [
        "%%R\n",
        "\n",
        "obj <- GeoExperimentData(obj.gts,\n",
        "                          periods=obj.per,\n",
        "                          geo.assignment=obj.ga)\n",
        "head(obj)"
      ],
      "metadata": {
        "colab": {
          "base_uri": "https://localhost:8080/"
        },
        "id": "d2p8anSdXBw4",
        "outputId": "cc603111-3f35-47ef-9450-bbb4c5496639"
      },
      "execution_count": null,
      "outputs": [
        {
          "output_type": "stream",
          "name": "stdout",
          "text": [
            "        date geo period geo.group assignment   sales cost .weekday .weeknum\n",
            "1 2015-01-05   1      0         2         NA 7227.32    0        1        1\n",
            "2 2015-01-05  10      0         1         NA 1827.21    0        1        1\n",
            "3 2015-01-05 100      0         1         NA   23.98    0        1        1\n",
            "4 2015-01-05  11      0         1         NA 1501.10    0        1        1\n",
            "5 2015-01-05  12      0         2         NA 1371.61    0        1        1\n",
            "6 2015-01-05  13      0         1         NA 1366.81    0        1        1\n",
            "  .weekindex\n",
            "1     201501\n",
            "2     201501\n",
            "3     201501\n",
            "4     201501\n",
            "5     201501\n",
            "6     201501\n"
          ]
        }
      ]
    },
    {
      "cell_type": "markdown",
      "source": [
        "The column *period* contains the indicator for the experiment periods: 0 =\n",
        "Pretest, 1 = test (Intervention). 'NA' marks a date that is outside of the\n",
        "designated experiment periods.\n",
        "\n",
        "The column *geo.group* contains the geo group ID for each of the geos.\n",
        "\n",
        "The column *assignment* is not used in this version of the R package. It is set\n",
        "to *NA* by default. It can be ignored."
      ],
      "metadata": {
        "id": "aglCZx8U5zre"
      }
    },
    {
      "cell_type": "markdown",
      "source": [
        "The default threshold is 0.\n",
        "\n",
        "## Time-Based Regression (TBR) ROAS Analysis\n",
        "\n",
        "The GeoExperimentData object can also be used for performing a TBR analysis [3],\n",
        "applying method *DoTBRROASAnalysis*, specifying which of the metrics is the\n",
        "response and which represents the cost, along with the experiment period and\n",
        "group numbers. The model ID is also required; currently the only available\n",
        "model is 'tbr1', as described in [3]."
      ],
      "metadata": {
        "id": "fJmmHVP-6BQt"
      }
    },
    {
      "cell_type": "code",
      "source": [
        "%%R\n",
        "\n",
        "obj.tbr.roas <- DoTBRROASAnalysis(obj, response='sales', cost='cost',\n",
        "                                  model='tbr1',\n",
        "                                  pretest.period=0,\n",
        "                                  intervention.period=1,\n",
        "                                  cooldown.period=NULL,\n",
        "                                  control.group=1,\n",
        "                                  treatment.group=2)\n",
        "obj.tbr.roas"
      ],
      "metadata": {
        "colab": {
          "base_uri": "https://localhost:8080/"
        },
        "id": "I4J6dJMsXRzd",
        "outputId": "221f4816-db98-49e3-86a8-13d07df6031b"
      },
      "execution_count": null,
      "outputs": [
        {
          "output_type": "stream",
          "name": "stdout",
          "text": [
            "      estimate precision    lower upper level incr.resp incr.cost thres prob\n",
            "iROAS 2.946742  0.120548 2.826194   Inf   0.9  147337.1     50000     0    1\n",
            "      model\n",
            "iROAS  tbr1\n"
          ]
        }
      ]
    },
    {
      "cell_type": "markdown",
      "source": [
        "The resulting object (a *TBRROASAnalysisFit* object) contains the model fit:\n",
        "when printed, it shows its summary, which defaults to 90 percent one-sided\n",
        "credible intervals. Similarly to what we did with a *GBRROASAnalysisFit* object\n",
        "we can recalculate the credible interval, and the probability of exceeding a\n",
        "given threshold like so:"
      ],
      "metadata": {
        "id": "glStVmLf6GyW"
      }
    },
    {
      "cell_type": "code",
      "source": [
        "%%R\n",
        "\n",
        "summary(obj.tbr.roas, level=0.95, interval.type=\"two-sided\")"
      ],
      "metadata": {
        "colab": {
          "base_uri": "https://localhost:8080/"
        },
        "id": "QdhKWIGPXWRq",
        "outputId": "a4158bb1-e6fc-428a-f032-c2e28cba872d"
      },
      "execution_count": null,
      "outputs": [
        {
          "output_type": "stream",
          "name": "stdout",
          "text": [
            "      estimate precision    lower    upper level incr.resp incr.cost thres prob\n",
            "iROAS 2.946742 0.1869702 2.759772 3.133713  0.95  147337.1     50000     0    1\n",
            "      model\n",
            "iROAS  tbr1\n"
          ]
        }
      ]
    },
    {
      "cell_type": "code",
      "source": [
        "%%R\n",
        "\n",
        "summary(obj.tbr.roas, threshold=3.0)"
      ],
      "metadata": {
        "colab": {
          "base_uri": "https://localhost:8080/"
        },
        "id": "E4U8J3ZTXZci",
        "outputId": "6293474a-59bd-44c5-d4a9-ecaba5c2c173"
      },
      "execution_count": null,
      "outputs": [
        {
          "output_type": "stream",
          "name": "stdout",
          "text": [
            "      estimate precision    lower upper level incr.resp incr.cost thres  prob\n",
            "iROAS 2.946742  0.120548 2.826194   Inf   0.9  147337.1     50000     3 0.284\n",
            "      model\n",
            "iROAS  tbr1\n"
          ]
        }
      ]
    },
    {
      "cell_type": "markdown",
      "source": [
        "The *plot* method shows the evolution of the iROAS estimate across the Test\n",
        "period:"
      ],
      "metadata": {
        "id": "mWlSdvHd6I14"
      }
    },
    {
      "cell_type": "code",
      "source": [
        "%%R\n",
        "\n",
        "plot(obj.tbr.roas)"
      ],
      "metadata": {
        "colab": {
          "base_uri": "https://localhost:8080/",
          "height": 497
        },
        "id": "IWKXdcTPXcNX",
        "outputId": "8eec8ae0-45ef-466b-d1fc-0fa243ecf26a"
      },
      "execution_count": null,
      "outputs": [
        {
          "output_type": "display_data",
          "data": {
            "image/png": "[encoded data removed]"
          },
          "metadata": {}
        }
      ]
    },
    {
      "cell_type": "markdown",
      "source": [
        "For more information on the method, type\n",
        "`?plot.TBRROASAnalysisFit` at the R prompt.\n",
        "\n",
        "\n",
        "\n",
        "## Time-Based Regression (TBR) Causal Effect Analysis\n",
        "\n",
        "Unlike the TBR ROAS Analysis, which estimates the ratio of the incremental\n",
        "response and incremental cost, the TBR Causal Effect Analysis applies only to\n",
        "one single variable, such as revenue."
      ],
      "metadata": {
        "id": "UDLZqa1r6LfK"
      }
    },
    {
      "cell_type": "code",
      "source": [
        "%%R\n",
        "\n",
        "obj.tbr <- DoTBRAnalysis(obj, response='sales',\n",
        "                           model='tbr1',\n",
        "                           pretest.period=0,\n",
        "                           intervention.period=1,\n",
        "                           cooldown.period=NULL,\n",
        "                           control.group=1,\n",
        "                           treatment.group=2)"
      ],
      "metadata": {
        "id": "G8YYI3u3Xf-O"
      },
      "execution_count": null,
      "outputs": []
    },
    {
      "cell_type": "markdown",
      "source": [
        "The resulting object (a *TBRAnalysisFitTbr1* object) contains the model fit for\n",
        "each time point, which can be seen when printed. To show the summary of the\n",
        "effect, we use the *summary* method:"
      ],
      "metadata": {
        "id": "9e6DhBoW6OeU"
      }
    },
    {
      "cell_type": "code",
      "source": [
        "%%R\n",
        "\n",
        "summary(obj.tbr)"
      ],
      "metadata": {
        "colab": {
          "base_uri": "https://localhost:8080/"
        },
        "id": "N60hzSkCXjCj",
        "outputId": "ba1219e0-6d9e-4a9c-869c-a2b21c663ffa"
      },
      "execution_count": null,
      "outputs": [
        {
          "output_type": "stream",
          "name": "stdout",
          "text": [
            "            estimate precision    lower upper       se level thres prob model\n",
            "incremental 147337.1  6027.401 141309.7   Inf 4625.514   0.9     0    1  tbr1\n"
          ]
        }
      ]
    },
    {
      "cell_type": "markdown",
      "source": [
        "which defaults to the 90% one-sided interval.\n",
        "\n",
        "The *plot* method illustrates the results of the analysis."
      ],
      "metadata": {
        "id": "gV6_Lvop6RDI"
      }
    },
    {
      "cell_type": "code",
      "source": [
        "%%R\n",
        "\n",
        "plot(obj.tbr)"
      ],
      "metadata": {
        "colab": {
          "base_uri": "https://localhost:8080/",
          "height": 497
        },
        "id": "YBAE3F8KXmWR",
        "outputId": "c8ad51f3-9042-485b-e9fa-f7b9012573ba"
      },
      "execution_count": null,
      "outputs": [
        {
          "output_type": "display_data",
          "data": {
            "image/png": "[encoded data removed]"
          },
          "metadata": {}
        }
      ]
    },
    {
      "cell_type": "markdown",
      "source": [
        "# References\n",
        "\n",
        "[1] Kerman, J., Vaver, J. and Koehler, J. (2011)\n",
        "    [Estimating causal effects using geo experiments](http://www.unofficialgoogledatascience.com/2016/06/estimating-causal-effects-using-geo.html)\n",
        "\n",
        "[2] Vaver, J. and Koehler, J. (2011)\n",
        "    [Measuring Ad Effectiveness Using Geo Experiments](http://static.googleusercontent.com/media/research.google.com/en//pubs/archive/38355.pdf)\n",
        "\n",
        "[3] Kerman, J. and Wang, P., and Vaver, J. (2017)\n",
        "    [Estimating Ad Effectiveness using Geo Experiments in a Time-Based Regression Framework](https://research.google.com/pubs/pub45950.html)\n",
        "\n",
        "[4] R Vignette:\n",
        "    [GeoexperimentsResearch version 1.0](https://github.com/google/GeoexperimentsResearch/blob/master/vignettes/GeoexperimentsResearch-vignette.Rmd)\n",
        "# Disclaimer\n",
        "This software is not an official Google product. For research purposes only. Copyright 2017 Google, Inc."
      ],
      "metadata": {
        "id": "ymATRep66tC2"
      }
    }
  ]
}